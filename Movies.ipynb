{
 "cells": [
  {
   "cell_type": "markdown",
   "id": "330c0ae1",
   "metadata": {},
   "source": [
    "<h1><center><b>Tamil Movies dataset"
   ]
  },
  {
   "cell_type": "markdown",
   "id": "36e11b37",
   "metadata": {},
   "source": [
    "<h2>About Dataset"
   ]
  },
  {
   "cell_type": "markdown",
   "id": "46c6f42d",
   "metadata": {},
   "source": [
    "<pre><h3>- This is a Tamil Movies Dataset scrapped from the <b>Kaggle Website</b> \n",
    "\n",
    "- Its Movies data are in <b>csv</b> format\n",
    "\n",
    "- This file consists of 10columns and 330row has product details accordingly"
   ]
  },
  {
   "cell_type": "code",
   "execution_count": 2,
   "id": "339121bb",
   "metadata": {},
   "outputs": [],
   "source": [
    "from IPython.display import Image"
   ]
  },
  {
   "cell_type": "markdown",
   "id": "cf0ed7de",
   "metadata": {},
   "source": [
    "<h3>Importing Required Libraries"
   ]
  },
  {
   "cell_type": "code",
   "execution_count": 3,
   "id": "005db126",
   "metadata": {},
   "outputs": [],
   "source": [
    "#Data Manipulation\n",
    "import pandas as pd\n",
    "\n",
    "#Data Visualisation\n",
    "import matplotlib.pyplot as plt\n",
    "import seaborn as sns"
   ]
  },
  {
   "cell_type": "markdown",
   "id": "c6e3bb3c",
   "metadata": {},
   "source": [
    "<h3>Importing The Dataset"
   ]
  },
  {
   "cell_type": "code",
   "execution_count": 4,
   "id": "8ad33a3e",
   "metadata": {},
   "outputs": [],
   "source": [
    "df = pd.read_csv('Tamil_movies_dataset.csv')"
   ]
  },
  {
   "cell_type": "code",
   "execution_count": 5,
   "id": "a50cc7ff",
   "metadata": {},
   "outputs": [
    {
     "data": {
      "text/plain": [
       "Index(['MovieName', 'Genre', 'Rating', 'Director', 'Actor', 'PeopleVote',\n",
       "       'Year', 'Hero_Rating', 'movie_rating', 'content_rating'],\n",
       "      dtype='object')"
      ]
     },
     "execution_count": 5,
     "metadata": {},
     "output_type": "execute_result"
    }
   ],
   "source": [
    "#To known the columns in the dataset \n",
    "df.columns"
   ]
  },
  {
   "cell_type": "code",
   "execution_count": 6,
   "id": "57866395",
   "metadata": {},
   "outputs": [
    {
     "data": {
      "text/plain": [
       "(329, 10)"
      ]
     },
     "execution_count": 6,
     "metadata": {},
     "output_type": "execute_result"
    }
   ],
   "source": [
    "#To know shape of the dataset\n",
    "df.shape"
   ]
  },
  {
   "cell_type": "code",
   "execution_count": 7,
   "id": "5995f12c",
   "metadata": {},
   "outputs": [
    {
     "data": {
      "text/html": [
       "<div>\n",
       "<style scoped>\n",
       "    .dataframe tbody tr th:only-of-type {\n",
       "        vertical-align: middle;\n",
       "    }\n",
       "\n",
       "    .dataframe tbody tr th {\n",
       "        vertical-align: top;\n",
       "    }\n",
       "\n",
       "    .dataframe thead th {\n",
       "        text-align: right;\n",
       "    }\n",
       "</style>\n",
       "<table border=\"1\" class=\"dataframe\">\n",
       "  <thead>\n",
       "    <tr style=\"text-align: right;\">\n",
       "      <th></th>\n",
       "      <th>MovieName</th>\n",
       "      <th>Genre</th>\n",
       "      <th>Rating</th>\n",
       "      <th>Director</th>\n",
       "      <th>Actor</th>\n",
       "      <th>PeopleVote</th>\n",
       "      <th>Year</th>\n",
       "      <th>Hero_Rating</th>\n",
       "      <th>movie_rating</th>\n",
       "      <th>content_rating</th>\n",
       "    </tr>\n",
       "  </thead>\n",
       "  <tbody>\n",
       "    <tr>\n",
       "      <th>0</th>\n",
       "      <td>Mouna Guru</td>\n",
       "      <td>Action</td>\n",
       "      <td>7.7</td>\n",
       "      <td>Santha Kumar</td>\n",
       "      <td>Arulnithi</td>\n",
       "      <td>746</td>\n",
       "      <td>2011</td>\n",
       "      <td>8</td>\n",
       "      <td>8</td>\n",
       "      <td>7.900000</td>\n",
       "    </tr>\n",
       "    <tr>\n",
       "      <th>1</th>\n",
       "      <td>7 Aum Arivu</td>\n",
       "      <td>Action</td>\n",
       "      <td>6.2</td>\n",
       "      <td>A.R. Murugadoss</td>\n",
       "      <td>Suriya</td>\n",
       "      <td>9479</td>\n",
       "      <td>2011</td>\n",
       "      <td>9</td>\n",
       "      <td>9</td>\n",
       "      <td>8.066667</td>\n",
       "    </tr>\n",
       "    <tr>\n",
       "      <th>2</th>\n",
       "      <td>Vaagai Sooda Vaa</td>\n",
       "      <td>Comedy</td>\n",
       "      <td>8.0</td>\n",
       "      <td>A. Sarkunam</td>\n",
       "      <td>Vimal</td>\n",
       "      <td>14522</td>\n",
       "      <td>2011</td>\n",
       "      <td>8</td>\n",
       "      <td>7</td>\n",
       "      <td>7.666667</td>\n",
       "    </tr>\n",
       "    <tr>\n",
       "      <th>3</th>\n",
       "      <td>Mankatha</td>\n",
       "      <td>Action</td>\n",
       "      <td>7.6</td>\n",
       "      <td>Venkat Prabhu</td>\n",
       "      <td>Ajith Kumar</td>\n",
       "      <td>12276</td>\n",
       "      <td>2011</td>\n",
       "      <td>6</td>\n",
       "      <td>8</td>\n",
       "      <td>7.200000</td>\n",
       "    </tr>\n",
       "    <tr>\n",
       "      <th>4</th>\n",
       "      <td>Kanchana: Muni 2</td>\n",
       "      <td>Comedy</td>\n",
       "      <td>6.5</td>\n",
       "      <td>Lawrence Raghavendra</td>\n",
       "      <td>Lawrence Raghavendra</td>\n",
       "      <td>1044</td>\n",
       "      <td>2011</td>\n",
       "      <td>8</td>\n",
       "      <td>9</td>\n",
       "      <td>7.833333</td>\n",
       "    </tr>\n",
       "  </tbody>\n",
       "</table>\n",
       "</div>"
      ],
      "text/plain": [
       "          MovieName   Genre  Rating              Director  \\\n",
       "0        Mouna Guru  Action     7.7          Santha Kumar   \n",
       "1       7 Aum Arivu  Action     6.2       A.R. Murugadoss   \n",
       "2  Vaagai Sooda Vaa  Comedy     8.0           A. Sarkunam   \n",
       "3          Mankatha  Action     7.6         Venkat Prabhu   \n",
       "4  Kanchana: Muni 2  Comedy     6.5  Lawrence Raghavendra   \n",
       "\n",
       "                  Actor  PeopleVote  Year  Hero_Rating  movie_rating  \\\n",
       "0             Arulnithi         746  2011            8             8   \n",
       "1                Suriya        9479  2011            9             9   \n",
       "2                 Vimal       14522  2011            8             7   \n",
       "3           Ajith Kumar       12276  2011            6             8   \n",
       "4  Lawrence Raghavendra        1044  2011            8             9   \n",
       "\n",
       "   content_rating  \n",
       "0        7.900000  \n",
       "1        8.066667  \n",
       "2        7.666667  \n",
       "3        7.200000  \n",
       "4        7.833333  "
      ]
     },
     "execution_count": 7,
     "metadata": {},
     "output_type": "execute_result"
    }
   ],
   "source": [
    "#To known the first five rows in the dataset\n",
    "df.head()"
   ]
  },
  {
   "cell_type": "code",
   "execution_count": 8,
   "id": "1932e577",
   "metadata": {},
   "outputs": [
    {
     "data": {
      "text/html": [
       "<div>\n",
       "<style scoped>\n",
       "    .dataframe tbody tr th:only-of-type {\n",
       "        vertical-align: middle;\n",
       "    }\n",
       "\n",
       "    .dataframe tbody tr th {\n",
       "        vertical-align: top;\n",
       "    }\n",
       "\n",
       "    .dataframe thead th {\n",
       "        text-align: right;\n",
       "    }\n",
       "</style>\n",
       "<table border=\"1\" class=\"dataframe\">\n",
       "  <thead>\n",
       "    <tr style=\"text-align: right;\">\n",
       "      <th></th>\n",
       "      <th>MovieName</th>\n",
       "      <th>Genre</th>\n",
       "      <th>Rating</th>\n",
       "      <th>Director</th>\n",
       "      <th>Actor</th>\n",
       "      <th>PeopleVote</th>\n",
       "      <th>Year</th>\n",
       "      <th>Hero_Rating</th>\n",
       "      <th>movie_rating</th>\n",
       "      <th>content_rating</th>\n",
       "    </tr>\n",
       "  </thead>\n",
       "  <tbody>\n",
       "    <tr>\n",
       "      <th>324</th>\n",
       "      <td>Dhilluku Dhuddu 2</td>\n",
       "      <td>Comedy</td>\n",
       "      <td>5.3</td>\n",
       "      <td>Rambala</td>\n",
       "      <td>Santhanam</td>\n",
       "      <td>497</td>\n",
       "      <td>2019</td>\n",
       "      <td>7</td>\n",
       "      <td>9</td>\n",
       "      <td>7.100000</td>\n",
       "    </tr>\n",
       "    <tr>\n",
       "      <th>325</th>\n",
       "      <td>Dev</td>\n",
       "      <td>Action</td>\n",
       "      <td>4.8</td>\n",
       "      <td>Rajath Ravishankar</td>\n",
       "      <td>Karthi</td>\n",
       "      <td>724</td>\n",
       "      <td>2019</td>\n",
       "      <td>5</td>\n",
       "      <td>8</td>\n",
       "      <td>5.933333</td>\n",
       "    </tr>\n",
       "    <tr>\n",
       "      <th>326</th>\n",
       "      <td>Charlie Chaplin 2</td>\n",
       "      <td>Comedy</td>\n",
       "      <td>3.8</td>\n",
       "      <td>Sakthi Chidambaram</td>\n",
       "      <td>Prabhu Deva</td>\n",
       "      <td>215</td>\n",
       "      <td>2019</td>\n",
       "      <td>4</td>\n",
       "      <td>7</td>\n",
       "      <td>4.933333</td>\n",
       "    </tr>\n",
       "    <tr>\n",
       "      <th>327</th>\n",
       "      <td>Petta</td>\n",
       "      <td>Action</td>\n",
       "      <td>7.3</td>\n",
       "      <td>Karthik Subbaraj</td>\n",
       "      <td>Rajinikanth</td>\n",
       "      <td>7545</td>\n",
       "      <td>2019</td>\n",
       "      <td>8</td>\n",
       "      <td>8</td>\n",
       "      <td>7.766667</td>\n",
       "    </tr>\n",
       "    <tr>\n",
       "      <th>328</th>\n",
       "      <td>Viswasam</td>\n",
       "      <td>Action</td>\n",
       "      <td>6.7</td>\n",
       "      <td>Siva</td>\n",
       "      <td>Ajith Kumar</td>\n",
       "      <td>5907</td>\n",
       "      <td>2019</td>\n",
       "      <td>8</td>\n",
       "      <td>9</td>\n",
       "      <td>7.900000</td>\n",
       "    </tr>\n",
       "  </tbody>\n",
       "</table>\n",
       "</div>"
      ],
      "text/plain": [
       "             MovieName   Genre  Rating            Director        Actor  \\\n",
       "324  Dhilluku Dhuddu 2  Comedy     5.3             Rambala    Santhanam   \n",
       "325                Dev  Action     4.8  Rajath Ravishankar       Karthi   \n",
       "326  Charlie Chaplin 2  Comedy     3.8  Sakthi Chidambaram  Prabhu Deva   \n",
       "327              Petta  Action     7.3    Karthik Subbaraj  Rajinikanth   \n",
       "328           Viswasam  Action     6.7                Siva  Ajith Kumar   \n",
       "\n",
       "     PeopleVote  Year  Hero_Rating  movie_rating  content_rating  \n",
       "324         497  2019            7             9        7.100000  \n",
       "325         724  2019            5             8        5.933333  \n",
       "326         215  2019            4             7        4.933333  \n",
       "327        7545  2019            8             8        7.766667  \n",
       "328        5907  2019            8             9        7.900000  "
      ]
     },
     "execution_count": 8,
     "metadata": {},
     "output_type": "execute_result"
    }
   ],
   "source": [
    "#To known the last five rows in the dataset\n",
    "df.tail()"
   ]
  },
  {
   "cell_type": "code",
   "execution_count": 9,
   "id": "81c8e97f",
   "metadata": {},
   "outputs": [
    {
     "name": "stdout",
     "output_type": "stream",
     "text": [
      "<class 'pandas.core.frame.DataFrame'>\n",
      "RangeIndex: 329 entries, 0 to 328\n",
      "Data columns (total 10 columns):\n",
      " #   Column          Non-Null Count  Dtype  \n",
      "---  ------          --------------  -----  \n",
      " 0   MovieName       329 non-null    object \n",
      " 1   Genre           329 non-null    object \n",
      " 2   Rating          329 non-null    float64\n",
      " 3   Director        329 non-null    object \n",
      " 4   Actor           329 non-null    object \n",
      " 5   PeopleVote      329 non-null    int64  \n",
      " 6   Year            329 non-null    int64  \n",
      " 7   Hero_Rating     329 non-null    int64  \n",
      " 8   movie_rating    329 non-null    int64  \n",
      " 9   content_rating  329 non-null    float64\n",
      "dtypes: float64(2), int64(4), object(4)\n",
      "memory usage: 25.8+ KB\n"
     ]
    }
   ],
   "source": [
    "#To know info of the dataset\n",
    "df.info()"
   ]
  },
  {
   "cell_type": "code",
   "execution_count": 10,
   "id": "3beac1e8",
   "metadata": {},
   "outputs": [
    {
     "data": {
      "text/plain": [
       "MovieName         0\n",
       "Genre             0\n",
       "Rating            0\n",
       "Director          0\n",
       "Actor             0\n",
       "PeopleVote        0\n",
       "Year              0\n",
       "Hero_Rating       0\n",
       "movie_rating      0\n",
       "content_rating    0\n",
       "dtype: int64"
      ]
     },
     "execution_count": 10,
     "metadata": {},
     "output_type": "execute_result"
    }
   ],
   "source": [
    "#Checking the missing values of the dataset\n",
    "df.isnull().sum()"
   ]
  },
  {
   "cell_type": "code",
   "execution_count": 11,
   "id": "d6169ecb",
   "metadata": {},
   "outputs": [
    {
     "data": {
      "text/plain": [
       "array([7, 8, 6, 5, 4], dtype=int64)"
      ]
     },
     "execution_count": 11,
     "metadata": {},
     "output_type": "execute_result"
    }
   ],
   "source": [
    "#changing price dtype[FLOAT] to dtype[INT64]\n",
    "df['content_rating'] = df['content_rating'].astype('int64')\n",
    "df['content_rating'].unique()"
   ]
  },
  {
   "cell_type": "code",
   "execution_count": 12,
   "id": "03852827",
   "metadata": {},
   "outputs": [
    {
     "data": {
      "text/plain": [
       "array(['Santha Kumar', 'A.R. Murugadoss', 'A. Sarkunam', 'Venkat Prabhu',\n",
       "       'Lawrence Raghavendra', 'A.L. Vijay', 'Radha Krishna Jagarlamudi',\n",
       "       'K.V. Anand', 'Radha Mohan', 'Myshkin', 'Vetrimaaran',\n",
       "       'Balaji Tharaneetharan', 'Karthik Subbaraj', 'Jeeva Shankar',\n",
       "       'S.S. Rajamouli', 'Sundar C.', 'Balaji Sakthivel', 'Prabu Solomon',\n",
       "       'Gautham Vasudev Menon', 'Balu Mahendra', 'M. Saravanan',\n",
       "       'R.S. Prasanna', 'K. Selvaraghavan', 'Suseenthiran',\n",
       "       'Vishnuvardhan', 'Atlee Kumar', 'V.Z. Dhorai', 'Naveen', 'Ponram',\n",
       "       'Ram', 'Ganapathy Bharat', 'Hari', 'Alphonse Puthren',\n",
       "       'Nalan Kumarasamy', 'R.S. Durai Senthilkumar', 'Pandiraj', 'Bala',\n",
       "       'M. Manikandan', 'K.S. Ravikumar', 'Vasanthabalan', 'Pa. Ranjith',\n",
       "       'Parthiban', 'Velraj', 'H. Vinoth', 'Ram Kumar',\n",
       "       'Soundarya R. Ashwin', 'Balaji Mohan', 'Raju Murugan', 'P. Ramesh',\n",
       "       'S.U. Arun Kumar', 'Vijay Milton', 'Siva', 'Rajesh M. Selva',\n",
       "       'Vignesh Shivan', 'Bramma G.', 'Anu Charan', 'Ashwin Saravanan',\n",
       "       'Mohan Raja', 'Jeethu Joseph', 'R. Ravikumar',\n",
       "       'R. Ajay Gnanamuthu', 'Roshan Andrews', 'Ramesh Aravind',\n",
       "       'Mani Ratnam', 'A.G. Amid', 'Prasad Ramar', 'Ramprakash Rayappa',\n",
       "       'S. Shankar', 'Karthick Naren', 'Lakshmi Ramakrishnan',\n",
       "       'Seenu Ramasamy', 'Ananda Krishnan', 'Vijay Kumar',\n",
       "       'Vikram K. Kumar', 'Vamshi Paidipally', 'Sasi', 'Sudha Kongara',\n",
       "       'Arivazhagan Venkatachalam', 'Rajadurai', 'Arun Chidambaram',\n",
       "       'Arun Krishnaswami', 'Shivaraj', 'Ram K. Chandran', 'Sai Bharath',\n",
       "       'Lakshman', 'Mahendran Rajamani', 'Rohin Venkatesan', 'Bharathan',\n",
       "       'Jayaprakash Radhakrishnan', 'Arun Prabhu Purushothaman',\n",
       "       'Caarthick Raju', 'Sinish', 'Thangar Bachan', 'G.L. Sethuraman',\n",
       "       'P.S. Vijayakumar', 'Abbas Akbaar', 'Selvaah', 'M. Muthaiya',\n",
       "       'Gautham Ramachandran', 'G. Srinivasan', 'Susi Ganesan',\n",
       "       'Kumaresh Kumar', 'Kalaprabhu Thanu', 'Jagan', 'Gaurav Narayanan',\n",
       "       'Gopi Nainar', 'Milind Rau', 'Meera Kathiravan', 'Ravee Paargavan',\n",
       "       'Rathna Kumar', 'Bejoy Nambiar', 'Santhosh P. Jayakumar',\n",
       "       'R. Panneerselvam', 'Jawahar', 'Saran', 'T Krishna Samy',\n",
       "       'Tatineni Satya', 'Tha. Muruganatham', 'Nikki Galrani', 'Nithilan',\n",
       "       'C.V. Kumar', 'Ranjit Jeyakodi', 'Srikantan', 'Thalapathy Prabhu',\n",
       "       'T.J. Gnanavel', 'Arun Vaidyanathan', 'Hiphop Tamizha Adhi',\n",
       "       'Gayatri', 'M. Anbazhagan', 'Feroz', 'Ashok Amritharaj S.',\n",
       "       'Ilavarasu Odam', 'Jpr', 'R. Kannan', 'Inba Sekhar',\n",
       "       'Prashanth G Sekr', 'Adhik Ravichandran', 'Ark Saravan',\n",
       "       'Vicky Anand', 'Ashok', 'Rajkumar Periasamy', 'Vikram Prabhu',\n",
       "       'Taj', 'Suresh Sangaiah', 'V Brabhakar', 'Gautham V.R.',\n",
       "       'Samuthirakani', 'Sankar Suresh', 'Ike Radha',\n",
       "       'Sakthi Rajasekaran', 'Ezhil', 'S. Bani', 'Marxx', 'Deepan',\n",
       "       'N. Ragavan', 'P. Vasu', 'Dhanush', 'Sri Ganesh', 'Dass Ramasamy',\n",
       "       'Adam Dasan', 'Kannan Rangaswamy', 'Shaji Kailas', 'Satheesh',\n",
       "       'Prashanth Pandiraj', 'Mani Seiyon', 'R. Senthil Nadan',\n",
       "       'Lokesh Kanagaraj', 'Sai Ramani', 'Adhiroopan',\n",
       "       'Kuzhandai Velappan', 'Karthik Thangavel', 'Arunraja Kamaraj',\n",
       "       'Dinesh Selvaraj', 'N. Linguswamy', 'Thamira', 'Anand Shankar',\n",
       "       'C. Prem Kumar', 'Mari Selvaraj', 'Dharani Dharan', 'Pawan Kumar',\n",
       "       'Jathin Sanker Raj', 'Nelson', 'Elan', 'Vishwaroopam', 'Gokul',\n",
       "       'R. Madhesh', 'C.S. Amudhan', 'Mu. Maran', 'P.S. Mithran',\n",
       "       'Savitri', 'Shakti Soundar Rajan', 'Ajayan Bala', 'G.R. Adithya',\n",
       "       'Lenin Bharati', 'Ashok G.', 'Priya Darshan', 'P. Arumugakumar',\n",
       "       'Vijay Chandar', 'Gireesaaya', 'M.M. Chandramouli', 'Sujeeth',\n",
       "       'Chachi', 'Jagadeesan Subu', 'Pradeep Ranganathan', 'Kalyaan',\n",
       "       'K. Johnson', 'Sam Anton', 'Selva Sekaran', 'Chandru',\n",
       "       'Sy Gowthamraj', 'V.J. Gopinath', 'S. Muthukumaran',\n",
       "       'Harish Ram L.H.', 'Andrew Louis', 'Suresh', 'Venkat Mohan',\n",
       "       'Kalees', 'Barath Neelakantan', 'M. Rajesh', 'Vivek Elangovan',\n",
       "       'Raju Saravanan', 'Baba Bhaskar', 'Parthiban Desingu',\n",
       "       'Thiagarajan Kumararaja', 'Sarjun', 'Selvakannan',\n",
       "       'Naveen Nanjundan', 'Magizh Thirumeni', 'Anita Udeep', 'Prabhu',\n",
       "       'Rambala', 'Rajath Ravishankar', 'Sakthi Chidambaram'],\n",
       "      dtype=object)"
      ]
     },
     "execution_count": 12,
     "metadata": {},
     "output_type": "execute_result"
    }
   ],
   "source": [
    "#Getting unique Director from the dataset\n",
    "df['Director'].unique()"
   ]
  },
  {
   "cell_type": "code",
   "execution_count": 13,
   "id": "2dab529b",
   "metadata": {},
   "outputs": [
    {
     "data": {
      "text/plain": [
       "array(['Arulnithi', 'Suriya', 'Vimal', 'Ajith Kumar',\n",
       "       'Lawrence Raghavendra', 'Vikram', 'T.R. Silambarasan', 'Jiiva',\n",
       "       'Nagarjuna Akkineni', 'Cheran', 'Dhanush', 'Vijay Sethupathi',\n",
       "       'Joseph Vijay', 'Vijay Antony', 'J.V.V. Sathyanarayana', 'Sri',\n",
       "       'Vikram Prabhu', 'Karthick', 'Karthi', 'Prasanna', 'Arya',\n",
       "       'Vishal', 'Myshkin', 'Sandra Amy', 'Naveen', 'Sivakarthikeyan',\n",
       "       'Ram', 'Santhosh Ramesh', 'Siddharth', 'Nivin Pauly',\n",
       "       'Atharvaa Murali', 'Ramesh', 'Chandran', 'Naga', 'Rajinikanth',\n",
       "       'Vishnu Vishal', 'Thambi Ramaiah', 'Nataraja Subramanian',\n",
       "       'Nassar', 'Dulquer Salmaan', 'Dinesh', 'Ashok Selvan',\n",
       "       'Kishore Kumar G.', 'Kamal Haasan', 'Master Ajay', 'Anucharan',\n",
       "       'Nayanthara', 'Jayam Ravi', 'Jyotika', 'Veera Bahu', 'Nakhul',\n",
       "       'Rahman', 'Jai', 'Semmalar Annam', 'Vidharth', 'Raju Saravanan',\n",
       "       'Shirish', 'S.J. Suryah', 'Vijay Kumar', 'Madhavan', 'Arun Vijay',\n",
       "       'Priya Anand', 'Jiya Anil Manne', 'Bharath Srinivasan', 'Aneeruth',\n",
       "       'Arjun Chidambaram', 'Shanthnu Bhagyaraj', 'R. Aravindraj',\n",
       "       'Anand Sami', 'Aditi Balan', 'Dr. Chef Damodaran', 'Anjali',\n",
       "       'Bhoomika Chawla', 'Aryan', 'Bhagyaraj', 'Abbas Akbar',\n",
       "       'Yogi Babu', 'Gnanasambandam', 'Bobby Simha', 'Sreeja Das',\n",
       "       'Gautham Karthik', 'K.P. Jagan', 'Sundeep Kishan',\n",
       "       'Udhayanidhi Stalin', 'Prakash Belawadi', 'Abhinaya',\n",
       "       'Vaibhav Reddy', 'Kovai Babu', 'Sami Rajalingam', 'Mahesh Babu',\n",
       "       'Santhosh Prathap', 'Vinay Rai', 'T. Krishnasamy', 'Esha Gupta',\n",
       "       'Meera Krishna', 'Nagineedu', 'Ajay Ghosh', 'Riaz Ahmed',\n",
       "       'Parthiban', 'Varalaxmi Sarathkumar', 'Hiphop Tamizha Adhi',\n",
       "       'Pushkar', 'Anandhi', 'Kreshna', 'A.L. Azhagappan',\n",
       "       'Regina Cassandra', 'Sarath Kumar', 'RJ Balaji', 'Inbasekhar',\n",
       "       'Prashanth G Sekar', 'Arjun', 'Tamannaah Bhatia', 'Aadhi',\n",
       "       'Vicky Anand', 'Rskarthiik', 'Manjima Mohan', 'Pooja Bisht',\n",
       "       'Suresh Sangaiah', 'Velu Prabhakaran', 'M.S. Bhaskar',\n",
       "       'Arthana Binu', 'Shankar-Suresh', 'Nivas Adithan',\n",
       "       'Karai Natrajan', 'Dhansika', 'Prabhas', 'Roma Asrani',\n",
       "       'Bhanupriya', 'Vetri', 'Radhika Prasidhha', 'Aira Agarval',\n",
       "       'Shaji Kailas', 'Amudhavaanan', 'Anandraj', 'Chaams',\n",
       "       'Joy Badlani', 'Aari', 'Amudhavan Karuppiah', 'Aishwarya Rajesh',\n",
       "       'Ilavarasu', 'Vijay Deverakonda', 'Prabunath', 'Slavisa Ivanovic',\n",
       "       'Samantha Ruth Prabhu', 'Ditya Bhande', 'Nishanth Ravindaran',\n",
       "       'Harish Kalyan', 'Trisha Krishnan', 'Samuthirakani',\n",
       "       'Abhinayashree', 'Nag Ashwin', 'Yaashika Aanand', 'Sai Pallavi',\n",
       "       'Prabhu Deva', 'Lokesh Rajendran', 'Ivana', 'Leninbharati',\n",
       "       'Anushka Shetty', 'Priyadarshan', 'Annayya', 'Dhruv Vikram',\n",
       "       'G.V. Prakash Kumar', 'Vikranth', 'M. Sasikumar', 'Santhanam',\n",
       "       'Amala Paul', 'Appukutty', 'Charlie', 'Lovelyn Chandrasekhar',\n",
       "       'Kpy Bala', 'Taapsee Pannu', 'Vivek', 'Madhampatty Rangaraj',\n",
       "       'Daniel Balaji', 'Sathish Krishnan', 'Elvis Alexander',\n",
       "       'Master Ajithesh', 'Oviya'], dtype=object)"
      ]
     },
     "execution_count": 13,
     "metadata": {},
     "output_type": "execute_result"
    }
   ],
   "source": [
    "#Getting unique Actor from the dataset\n",
    "df['Actor'].unique()"
   ]
  },
  {
   "cell_type": "code",
   "execution_count": 14,
   "id": "4cc05e86",
   "metadata": {},
   "outputs": [
    {
     "data": {
      "text/plain": [
       "'Yogi Babu'"
      ]
     },
     "execution_count": 14,
     "metadata": {},
     "output_type": "execute_result"
    }
   ],
   "source": [
    "#Finding which Actor has maximum in the dataset\n",
    "df['Actor'].max()"
   ]
  },
  {
   "cell_type": "code",
   "execution_count": 15,
   "id": "2a25e1bf",
   "metadata": {
    "scrolled": true
   },
   "outputs": [
    {
     "data": {
      "text/plain": [
       "'Vivek Elangovan'"
      ]
     },
     "execution_count": 15,
     "metadata": {},
     "output_type": "execute_result"
    }
   ],
   "source": [
    "#Finding which Director has maximum in the dataset\n",
    "df['Director'].max()"
   ]
  },
  {
   "cell_type": "code",
   "execution_count": 16,
   "id": "7e1733c9",
   "metadata": {},
   "outputs": [
    {
     "data": {
      "text/html": [
       "<div>\n",
       "<style scoped>\n",
       "    .dataframe tbody tr th:only-of-type {\n",
       "        vertical-align: middle;\n",
       "    }\n",
       "\n",
       "    .dataframe tbody tr th {\n",
       "        vertical-align: top;\n",
       "    }\n",
       "\n",
       "    .dataframe thead th {\n",
       "        text-align: right;\n",
       "    }\n",
       "</style>\n",
       "<table border=\"1\" class=\"dataframe\">\n",
       "  <thead>\n",
       "    <tr style=\"text-align: right;\">\n",
       "      <th></th>\n",
       "      <th>Rating</th>\n",
       "      <th>PeopleVote</th>\n",
       "      <th>Year</th>\n",
       "      <th>Hero_Rating</th>\n",
       "      <th>movie_rating</th>\n",
       "      <th>content_rating</th>\n",
       "    </tr>\n",
       "  </thead>\n",
       "  <tbody>\n",
       "    <tr>\n",
       "      <th>count</th>\n",
       "      <td>329.000000</td>\n",
       "      <td>329.000000</td>\n",
       "      <td>329.000000</td>\n",
       "      <td>329.000000</td>\n",
       "      <td>329.000000</td>\n",
       "      <td>329.000000</td>\n",
       "    </tr>\n",
       "    <tr>\n",
       "      <th>mean</th>\n",
       "      <td>6.443161</td>\n",
       "      <td>7372.607903</td>\n",
       "      <td>2016.562310</td>\n",
       "      <td>6.793313</td>\n",
       "      <td>8.139818</td>\n",
       "      <td>6.641337</td>\n",
       "    </tr>\n",
       "    <tr>\n",
       "      <th>std</th>\n",
       "      <td>1.403835</td>\n",
       "      <td>14380.829757</td>\n",
       "      <td>2.142039</td>\n",
       "      <td>1.959923</td>\n",
       "      <td>0.760232</td>\n",
       "      <td>0.903377</td>\n",
       "    </tr>\n",
       "    <tr>\n",
       "      <th>min</th>\n",
       "      <td>1.200000</td>\n",
       "      <td>7.000000</td>\n",
       "      <td>2011.000000</td>\n",
       "      <td>1.000000</td>\n",
       "      <td>6.000000</td>\n",
       "      <td>4.000000</td>\n",
       "    </tr>\n",
       "    <tr>\n",
       "      <th>25%</th>\n",
       "      <td>5.600000</td>\n",
       "      <td>455.000000</td>\n",
       "      <td>2015.000000</td>\n",
       "      <td>5.000000</td>\n",
       "      <td>8.000000</td>\n",
       "      <td>6.000000</td>\n",
       "    </tr>\n",
       "    <tr>\n",
       "      <th>50%</th>\n",
       "      <td>6.700000</td>\n",
       "      <td>1320.000000</td>\n",
       "      <td>2017.000000</td>\n",
       "      <td>7.000000</td>\n",
       "      <td>8.000000</td>\n",
       "      <td>7.000000</td>\n",
       "    </tr>\n",
       "    <tr>\n",
       "      <th>75%</th>\n",
       "      <td>7.500000</td>\n",
       "      <td>5907.000000</td>\n",
       "      <td>2018.000000</td>\n",
       "      <td>8.000000</td>\n",
       "      <td>9.000000</td>\n",
       "      <td>7.000000</td>\n",
       "    </tr>\n",
       "    <tr>\n",
       "      <th>max</th>\n",
       "      <td>9.000000</td>\n",
       "      <td>71418.000000</td>\n",
       "      <td>2019.000000</td>\n",
       "      <td>10.000000</td>\n",
       "      <td>10.000000</td>\n",
       "      <td>8.000000</td>\n",
       "    </tr>\n",
       "  </tbody>\n",
       "</table>\n",
       "</div>"
      ],
      "text/plain": [
       "           Rating    PeopleVote         Year  Hero_Rating  movie_rating  \\\n",
       "count  329.000000    329.000000   329.000000   329.000000    329.000000   \n",
       "mean     6.443161   7372.607903  2016.562310     6.793313      8.139818   \n",
       "std      1.403835  14380.829757     2.142039     1.959923      0.760232   \n",
       "min      1.200000      7.000000  2011.000000     1.000000      6.000000   \n",
       "25%      5.600000    455.000000  2015.000000     5.000000      8.000000   \n",
       "50%      6.700000   1320.000000  2017.000000     7.000000      8.000000   \n",
       "75%      7.500000   5907.000000  2018.000000     8.000000      9.000000   \n",
       "max      9.000000  71418.000000  2019.000000    10.000000     10.000000   \n",
       "\n",
       "       content_rating  \n",
       "count      329.000000  \n",
       "mean         6.641337  \n",
       "std          0.903377  \n",
       "min          4.000000  \n",
       "25%          6.000000  \n",
       "50%          7.000000  \n",
       "75%          7.000000  \n",
       "max          8.000000  "
      ]
     },
     "execution_count": 16,
     "metadata": {},
     "output_type": "execute_result"
    }
   ],
   "source": [
    "#Describing Statistic Summary\n",
    "df.describe()"
   ]
  },
  {
   "cell_type": "code",
   "execution_count": 17,
   "id": "a35e7d9e",
   "metadata": {},
   "outputs": [
    {
     "data": {
      "text/plain": [
       "2017    112\n",
       "2019     63\n",
       "2018     52\n",
       "2013     22\n",
       "2014     21\n",
       "2015     21\n",
       "2016     18\n",
       "2011     11\n",
       "2012      9\n",
       "Name: Year, dtype: int64"
      ]
     },
     "execution_count": 17,
     "metadata": {},
     "output_type": "execute_result"
    }
   ],
   "source": [
    "df['Year'].value_counts()"
   ]
  },
  {
   "cell_type": "code",
   "execution_count": 18,
   "id": "db144631",
   "metadata": {},
   "outputs": [],
   "source": [
    "import matplotlib.pyplot as plt"
   ]
  },
  {
   "cell_type": "code",
   "execution_count": 19,
   "id": "db0413b9",
   "metadata": {},
   "outputs": [],
   "source": [
    "df['Year'] = df['Year'].astype('int64')"
   ]
  },
  {
   "cell_type": "code",
   "execution_count": 20,
   "id": "8af4e87b",
   "metadata": {},
   "outputs": [
    {
     "data": {
      "image/png": "[encoded data removed]",
      "text/plain": [
       "<Figure size 640x480 with 1 Axes>"
      ]
     },
     "metadata": {},
     "output_type": "display_data"
    },
    {
     "name": "stdout",
     "output_type": "stream",
     "text": [
      "\n",
      "Highest no of movies acted actors in those years:   Actor\n",
      "Vijay Sethupathi    15\n",
      "Suriya               8\n",
      "Dhanush              8\n",
      "Ajith Kumar          7\n",
      "Joseph Vijay         7\n",
      "Name: MovieName, dtype: int64\n"
     ]
    }
   ],
   "source": [
    "#Total Number of movies by a actor\n",
    "tol_movies = df.groupby(\"Actor\")[\"MovieName\"].count().sort_values(ascending=False).head(5)\n",
    "plt.bar(tol_movies.index,tol_movies.values,color = \"yellow\")\n",
    "plt.title(\"HIGHEST NO OF MOVIES ACTED ACTORS IN THOSE YEARS\",fontdict={'fontweight':'bold'})\n",
    "plt.xticks(rotation = 90)\n",
    "plt.xlabel = \"Top_Res\"\n",
    "plt.ylabel = \"Count\"\n",
    "for i,v in enumerate(tol_movies.values):\n",
    "    plt.text(i,v,str(v),ha='center')\n",
    "plt.show()\n",
    "\n",
    "print(\"\\nHighest no of movies acted actors in those years:  \",tol_movies)"
   ]
  },
  {
   "cell_type": "code",
   "execution_count": 21,
   "id": "62ae932c",
   "metadata": {},
   "outputs": [
    {
     "data": {
      "image/png": "[encoded data removed]",
      "text/plain": [
       "<Figure size 640x480 with 1 Axes>"
      ]
     },
     "metadata": {},
     "output_type": "display_data"
    },
    {
     "name": "stdout",
     "output_type": "stream",
     "text": [
      "\n",
      "Top 5 actor by their movies:   Actor\n",
      "Pushkar             9.0\n",
      "Appukutty           9.0\n",
      "Regina Cassandra    9.0\n",
      "Ramesh              9.0\n",
      "S.J. Suryah         9.0\n",
      "Name: Hero_Rating, dtype: float64\n"
     ]
    }
   ],
   "source": [
    "# Top five actor in those years\n",
    "top_5hero = df.groupby('Actor')['Hero_Rating'].mean().sort_values(ascending=False).head(5)\n",
    "plt.bar(top_5hero.index,top_5hero.values,color = \"violet\")\n",
    "plt.title(\"TOP 5 ACTOR BY THEIR MOVIES\",fontdict={'fontweight':'bold'})\n",
    "plt.xticks(rotation = 90)\n",
    "plt.xlabel = \"top_5hero\"\n",
    "plt.ylabel = \"Count\"\n",
    "for i,v in enumerate(top_5hero.values):\n",
    "    plt.text(i,v,str(v),ha='center')\n",
    "plt.show()\n",
    "\n",
    "print(\"\\nTop 5 actor by their movies:  \",top_5hero)"
   ]
  },
  {
   "cell_type": "code",
   "execution_count": 22,
   "id": "c28c7d8e",
   "metadata": {},
   "outputs": [
    {
     "ename": "ValueError",
     "evalue": "'RdB' is not a valid color value.",
     "output_type": "error",
     "traceback": [
      "\u001b[1;31m---------------------------------------------------------------------------\u001b[0m",
      "\u001b[1;31mValueError\u001b[0m                                Traceback (most recent call last)",
      "Cell \u001b[1;32mIn[22], line 3\u001b[0m\n\u001b[0;32m      1\u001b[0m \u001b[38;5;66;03m# Top five director in those years\u001b[39;00m\n\u001b[0;32m      2\u001b[0m top_5dir \u001b[38;5;241m=\u001b[39m df\u001b[38;5;241m.\u001b[39mgroupby(\u001b[38;5;124m'\u001b[39m\u001b[38;5;124mDirector\u001b[39m\u001b[38;5;124m'\u001b[39m)[\u001b[38;5;124m'\u001b[39m\u001b[38;5;124mmovie_rating\u001b[39m\u001b[38;5;124m'\u001b[39m]\u001b[38;5;241m.\u001b[39mmean()\u001b[38;5;241m.\u001b[39msort_values(ascending\u001b[38;5;241m=\u001b[39m\u001b[38;5;28;01mFalse\u001b[39;00m)\u001b[38;5;241m.\u001b[39mhead(\u001b[38;5;241m5\u001b[39m)\n\u001b[1;32m----> 3\u001b[0m plt\u001b[38;5;241m.\u001b[39mbar(top_5dir\u001b[38;5;241m.\u001b[39mindex,top_5dir\u001b[38;5;241m.\u001b[39mvalues,color \u001b[38;5;241m=\u001b[39m \u001b[38;5;124m\"\u001b[39m\u001b[38;5;124mRdB\u001b[39m\u001b[38;5;124m\"\u001b[39m)\n\u001b[0;32m      4\u001b[0m plt\u001b[38;5;241m.\u001b[39mtitle(\u001b[38;5;124m\"\u001b[39m\u001b[38;5;124mTOP 5 DIRECTOR BY THEIR MOVIE\u001b[39m\u001b[38;5;124m\"\u001b[39m,fontdict\u001b[38;5;241m=\u001b[39m{\u001b[38;5;124m'\u001b[39m\u001b[38;5;124mfontweight\u001b[39m\u001b[38;5;124m'\u001b[39m:\u001b[38;5;124m'\u001b[39m\u001b[38;5;124mbold\u001b[39m\u001b[38;5;124m'\u001b[39m})\n\u001b[0;32m      5\u001b[0m plt\u001b[38;5;241m.\u001b[39mxticks(rotation \u001b[38;5;241m=\u001b[39m \u001b[38;5;241m90\u001b[39m)\n",
      "File \u001b[1;32m~\\anaconda3\\Lib\\site-packages\\matplotlib\\pyplot.py:2439\u001b[0m, in \u001b[0;36mbar\u001b[1;34m(x, height, width, bottom, align, data, **kwargs)\u001b[0m\n\u001b[0;32m   2435\u001b[0m \u001b[38;5;129m@_copy_docstring_and_deprecators\u001b[39m(Axes\u001b[38;5;241m.\u001b[39mbar)\n\u001b[0;32m   2436\u001b[0m \u001b[38;5;28;01mdef\u001b[39;00m \u001b[38;5;21mbar\u001b[39m(\n\u001b[0;32m   2437\u001b[0m         x, height, width\u001b[38;5;241m=\u001b[39m\u001b[38;5;241m0.8\u001b[39m, bottom\u001b[38;5;241m=\u001b[39m\u001b[38;5;28;01mNone\u001b[39;00m, \u001b[38;5;241m*\u001b[39m, align\u001b[38;5;241m=\u001b[39m\u001b[38;5;124m'\u001b[39m\u001b[38;5;124mcenter\u001b[39m\u001b[38;5;124m'\u001b[39m,\n\u001b[0;32m   2438\u001b[0m         data\u001b[38;5;241m=\u001b[39m\u001b[38;5;28;01mNone\u001b[39;00m, \u001b[38;5;241m*\u001b[39m\u001b[38;5;241m*\u001b[39mkwargs):\n\u001b[1;32m-> 2439\u001b[0m     \u001b[38;5;28;01mreturn\u001b[39;00m gca()\u001b[38;5;241m.\u001b[39mbar(\n\u001b[0;32m   2440\u001b[0m         x, height, width\u001b[38;5;241m=\u001b[39mwidth, bottom\u001b[38;5;241m=\u001b[39mbottom, align\u001b[38;5;241m=\u001b[39malign,\n\u001b[0;32m   2441\u001b[0m         \u001b[38;5;241m*\u001b[39m\u001b[38;5;241m*\u001b[39m({\u001b[38;5;124m\"\u001b[39m\u001b[38;5;124mdata\u001b[39m\u001b[38;5;124m\"\u001b[39m: data} \u001b[38;5;28;01mif\u001b[39;00m data \u001b[38;5;129;01mis\u001b[39;00m \u001b[38;5;129;01mnot\u001b[39;00m \u001b[38;5;28;01mNone\u001b[39;00m \u001b[38;5;28;01melse\u001b[39;00m {}), \u001b[38;5;241m*\u001b[39m\u001b[38;5;241m*\u001b[39mkwargs)\n",
      "File \u001b[1;32m~\\anaconda3\\Lib\\site-packages\\matplotlib\\__init__.py:1442\u001b[0m, in \u001b[0;36m_preprocess_data.<locals>.inner\u001b[1;34m(ax, data, *args, **kwargs)\u001b[0m\n\u001b[0;32m   1439\u001b[0m \u001b[38;5;129m@functools\u001b[39m\u001b[38;5;241m.\u001b[39mwraps(func)\n\u001b[0;32m   1440\u001b[0m \u001b[38;5;28;01mdef\u001b[39;00m \u001b[38;5;21minner\u001b[39m(ax, \u001b[38;5;241m*\u001b[39margs, data\u001b[38;5;241m=\u001b[39m\u001b[38;5;28;01mNone\u001b[39;00m, \u001b[38;5;241m*\u001b[39m\u001b[38;5;241m*\u001b[39mkwargs):\n\u001b[0;32m   1441\u001b[0m     \u001b[38;5;28;01mif\u001b[39;00m data \u001b[38;5;129;01mis\u001b[39;00m \u001b[38;5;28;01mNone\u001b[39;00m:\n\u001b[1;32m-> 1442\u001b[0m         \u001b[38;5;28;01mreturn\u001b[39;00m func(ax, \u001b[38;5;241m*\u001b[39m\u001b[38;5;28mmap\u001b[39m(sanitize_sequence, args), \u001b[38;5;241m*\u001b[39m\u001b[38;5;241m*\u001b[39mkwargs)\n\u001b[0;32m   1444\u001b[0m     bound \u001b[38;5;241m=\u001b[39m new_sig\u001b[38;5;241m.\u001b[39mbind(ax, \u001b[38;5;241m*\u001b[39margs, \u001b[38;5;241m*\u001b[39m\u001b[38;5;241m*\u001b[39mkwargs)\n\u001b[0;32m   1445\u001b[0m     auto_label \u001b[38;5;241m=\u001b[39m (bound\u001b[38;5;241m.\u001b[39marguments\u001b[38;5;241m.\u001b[39mget(label_namer)\n\u001b[0;32m   1446\u001b[0m                   \u001b[38;5;129;01mor\u001b[39;00m bound\u001b[38;5;241m.\u001b[39mkwargs\u001b[38;5;241m.\u001b[39mget(label_namer))\n",
      "File \u001b[1;32m~\\anaconda3\\Lib\\site-packages\\matplotlib\\axes\\_axes.py:2441\u001b[0m, in \u001b[0;36mAxes.bar\u001b[1;34m(self, x, height, width, bottom, align, **kwargs)\u001b[0m\n\u001b[0;32m   2439\u001b[0m linewidth \u001b[38;5;241m=\u001b[39m itertools\u001b[38;5;241m.\u001b[39mcycle(np\u001b[38;5;241m.\u001b[39matleast_1d(linewidth))\n\u001b[0;32m   2440\u001b[0m hatch \u001b[38;5;241m=\u001b[39m itertools\u001b[38;5;241m.\u001b[39mcycle(np\u001b[38;5;241m.\u001b[39matleast_1d(hatch))\n\u001b[1;32m-> 2441\u001b[0m color \u001b[38;5;241m=\u001b[39m itertools\u001b[38;5;241m.\u001b[39mchain(itertools\u001b[38;5;241m.\u001b[39mcycle(mcolors\u001b[38;5;241m.\u001b[39mto_rgba_array(color)),\n\u001b[0;32m   2442\u001b[0m                         \u001b[38;5;66;03m# Fallback if color == \"none\".\u001b[39;00m\n\u001b[0;32m   2443\u001b[0m                         itertools\u001b[38;5;241m.\u001b[39mrepeat(\u001b[38;5;124m'\u001b[39m\u001b[38;5;124mnone\u001b[39m\u001b[38;5;124m'\u001b[39m))\n\u001b[0;32m   2444\u001b[0m \u001b[38;5;28;01mif\u001b[39;00m edgecolor \u001b[38;5;129;01mis\u001b[39;00m \u001b[38;5;28;01mNone\u001b[39;00m:\n\u001b[0;32m   2445\u001b[0m     edgecolor \u001b[38;5;241m=\u001b[39m itertools\u001b[38;5;241m.\u001b[39mrepeat(\u001b[38;5;28;01mNone\u001b[39;00m)\n",
      "File \u001b[1;32m~\\anaconda3\\Lib\\site-packages\\matplotlib\\colors.py:471\u001b[0m, in \u001b[0;36mto_rgba_array\u001b[1;34m(c, alpha)\u001b[0m\n\u001b[0;32m    468\u001b[0m     \u001b[38;5;28;01mpass\u001b[39;00m\n\u001b[0;32m    470\u001b[0m \u001b[38;5;28;01mif\u001b[39;00m \u001b[38;5;28misinstance\u001b[39m(c, \u001b[38;5;28mstr\u001b[39m):\n\u001b[1;32m--> 471\u001b[0m     \u001b[38;5;28;01mraise\u001b[39;00m \u001b[38;5;167;01mValueError\u001b[39;00m(\u001b[38;5;124mf\u001b[39m\u001b[38;5;124m\"\u001b[39m\u001b[38;5;132;01m{\u001b[39;00mc\u001b[38;5;132;01m!r}\u001b[39;00m\u001b[38;5;124m is not a valid color value.\u001b[39m\u001b[38;5;124m\"\u001b[39m)\n\u001b[0;32m    473\u001b[0m \u001b[38;5;28;01mif\u001b[39;00m \u001b[38;5;28mlen\u001b[39m(c) \u001b[38;5;241m==\u001b[39m \u001b[38;5;241m0\u001b[39m:\n\u001b[0;32m    474\u001b[0m     \u001b[38;5;28;01mreturn\u001b[39;00m np\u001b[38;5;241m.\u001b[39mzeros((\u001b[38;5;241m0\u001b[39m, \u001b[38;5;241m4\u001b[39m), \u001b[38;5;28mfloat\u001b[39m)\n",
      "\u001b[1;31mValueError\u001b[0m: 'RdB' is not a valid color value."
     ]
    },
    {
     "data": {
      "image/png": "[encoded data removed]",
      "text/plain": [
       "<Figure size 640x480 with 1 Axes>"
      ]
     },
     "metadata": {},
     "output_type": "display_data"
    }
   ],
   "source": [
    "# Top five director in those years\n",
    "top_5dir = df.groupby('Director')['movie_rating'].mean().sort_values(ascending=False).head(5)\n",
    "plt.bar(top_5dir.index,top_5dir.values,color = \"RdB\")\n",
    "plt.title(\"TOP 5 DIRECTOR BY THEIR MOVIE\",fontdict={'fontweight':'bold'})\n",
    "plt.xticks(rotation = 90)\n",
    "plt.xlabel = \"top_5dir\"\n",
    "plt.ylabel = \"Count\"\n",
    "for i,v in enumerate(top_5dir.values):\n",
    "    plt.text(i,v,str(v),ha='center')\n",
    "plt.show()\n",
    "\n",
    "print(\"\\nTop 5 director by their movie:  \",top_5dir)"
   ]
  },
  {
   "cell_type": "code",
   "execution_count": null,
   "id": "49f96950",
   "metadata": {},
   "outputs": [],
   "source": [
    "#Top 10 genre types movies in the dataset\n",
    "Top_genre = df['Genre'].value_counts().sort_values(ascending = False).head(10)\n",
    "plt.bar(Top_genre.index,Top_genre.values,color = \"orange\") \n",
    "plt.title(\"TOP 10 MOVIE GENRE TYPES\",fontdict={'fontweight':'bold'})\n",
    "plt.xticks(rotation = 'vertical')\n",
    "plt.xlabel = \"genre Type\"\n",
    "plt.ylabel = \"Count\"\n",
    "for i,v in enumerate(Top_genre.values):\n",
    "    plt.text(i,v,str(v),ha='center')\n",
    "plt.show()\n",
    "\n",
    "print(\"TOP 10 MOVIE GENRE TYPES:  \",Top_genre)"
   ]
  },
  {
   "cell_type": "code",
   "execution_count": null,
   "id": "9b23cb65",
   "metadata": {},
   "outputs": [],
   "source": [
    "plt.figure(figsize = (12,3))\n",
    "plt.scatter(df['Genre'],df['Year'], color = \"blue\")\n",
    "plt.show()"
   ]
  },
  {
   "cell_type": "code",
   "execution_count": null,
   "id": "c347dc61",
   "metadata": {},
   "outputs": [],
   "source": [
    "movie_rat = df.groupby('MovieName')['movie_rating'].mean().sort_values()\n",
    "top_movie = movie_rat.head(3)\n",
    "print(f\"The city with the least expensive restaurants is {top_movie}.\")\n",
    "plt.pie(top_movie)\n",
    "plt.show()"
   ]
  },
  {
   "cell_type": "code",
   "execution_count": null,
   "id": "e47c7f54",
   "metadata": {},
   "outputs": [],
   "source": [
    "sns.countplot(data = df, x = \"Genre\")\n",
    "plt.xticks(rotation=70)"
   ]
  },
  {
   "cell_type": "code",
   "execution_count": 23,
   "id": "cdaf3dd5",
   "metadata": {},
   "outputs": [
    {
     "data": {
      "text/plain": [
       "MovieName\n",
       "K-13         6\n",
       "Thadam       6\n",
       "Boomerang    6\n",
       "Name: movie_rating, dtype: int64"
      ]
     },
     "execution_count": 23,
     "metadata": {},
     "output_type": "execute_result"
    }
   ],
   "source": [
    "#lowest rating Movie\n",
    "df.groupby(\"MovieName\")[\"movie_rating\"].min().sort_values().head(3)"
   ]
  },
  {
   "cell_type": "code",
   "execution_count": 24,
   "id": "a76dfeee",
   "metadata": {},
   "outputs": [
    {
     "data": {
      "text/plain": [
       "Director\n",
       "R. Madhesh            4\n",
       "Kumaresh Kumar        4\n",
       "Sakthi Chidambaram    4\n",
       "Name: content_rating, dtype: int64"
      ]
     },
     "execution_count": 24,
     "metadata": {},
     "output_type": "execute_result"
    }
   ],
   "source": [
    "#lowest rating director\n",
    "df.groupby(\"Director\")[\"content_rating\"].min().sort_values().head(3)"
   ]
  },
  {
   "cell_type": "code",
   "execution_count": 25,
   "id": "82569e45",
   "metadata": {},
   "outputs": [
    {
     "data": {
      "text/plain": [
       "Actor\n",
       "Jai         1\n",
       "Dhansika    1\n",
       "Prabhas     1\n",
       "Name: Hero_Rating, dtype: int64"
      ]
     },
     "execution_count": 25,
     "metadata": {},
     "output_type": "execute_result"
    }
   ],
   "source": [
    "#lowest rating actor\n",
    "df.groupby(\"Actor\")[\"Hero_Rating\"].min().sort_values().head(3)"
   ]
  },
  {
   "cell_type": "code",
   "execution_count": 26,
   "id": "5b8638e0",
   "metadata": {},
   "outputs": [
    {
     "data": {
      "text/plain": [
       "Actor             Hero_Rating\n",
       "Vijay Sethupathi  8              7\n",
       "Arulnithi         8              4\n",
       "Joseph Vijay      8              3\n",
       "Name: Hero_Rating, dtype: int64"
      ]
     },
     "execution_count": 26,
     "metadata": {},
     "output_type": "execute_result"
    }
   ],
   "source": [
    "#Top 3 rating actor\n",
    "df.groupby(\"Actor\")[\"Hero_Rating\"].value_counts().sort_values(ascending=False).head(3)"
   ]
  },
  {
   "cell_type": "code",
   "execution_count": 27,
   "id": "46b92bd1",
   "metadata": {},
   "outputs": [
    {
     "data": {
      "text/plain": [
       "MovieName     movie_rating\n",
       "100           9               1\n",
       "Pichaikkaran  9               1\n",
       "Peranbu       7               1\n",
       "Name: movie_rating, dtype: int64"
      ]
     },
     "execution_count": 27,
     "metadata": {},
     "output_type": "execute_result"
    }
   ],
   "source": [
    "#Top 3 rating Movie\n",
    "df.groupby(\"MovieName\")[\"movie_rating\"].value_counts().sort_values(ascending=False).head(3)"
   ]
  },
  {
   "cell_type": "code",
   "execution_count": 28,
   "id": "9461dd92",
   "metadata": {},
   "outputs": [
    {
     "data": {
      "text/plain": [
       "Director     content_rating\n",
       "Vetrimaaran  8                 4\n",
       "Hari         7                 3\n",
       "Myshkin      7                 3\n",
       "Name: content_rating, dtype: int64"
      ]
     },
     "execution_count": 28,
     "metadata": {},
     "output_type": "execute_result"
    }
   ],
   "source": [
    "#Top 3 rating Director\n",
    "df.groupby(\"Director\")[\"content_rating\"].value_counts().sort_values(ascending=False).head(3)"
   ]
  },
  {
   "cell_type": "code",
   "execution_count": 29,
   "id": "543981db",
   "metadata": {},
   "outputs": [
    {
     "data": {
      "image/png": "[encoded data removed]",
      "text/plain": [
       "<Figure size 640x480 with 1 Axes>"
      ]
     },
     "metadata": {},
     "output_type": "display_data"
    },
    {
     "name": "stdout",
     "output_type": "stream",
     "text": [
      "\n",
      "Vjs Movies:   MovieName\n",
      "96                                 1\n",
      "Aandavan Kattalai                  1\n",
      "Dharmadurai                        1\n",
      "Junga                              1\n",
      "Kadhalum Kadanthu Pogum            1\n",
      "Kavan                              1\n",
      "Naanum Rowdy Thaan                 1\n",
      "Naduvula Konjam Pakkatha Kaanom    1\n",
      "Pannaiyarum Padminiyum             1\n",
      "Pizza                              1\n",
      "Puriyaatha Puthir                  1\n",
      "Seethakaathi                       1\n",
      "Sindhubaadh                        1\n",
      "Soodhu Kavvum                      1\n",
      "Super Deluxe                       1\n",
      "Name: Actor, dtype: int64\n"
     ]
    }
   ],
   "source": [
    "Vjs = df[df['Actor'] == 'Vijay Sethupathi'].groupby('MovieName')['Actor'].count().sort_values(ascending=False)\n",
    "plt.bar(Vjs.index,Vjs.values,color = \"violet\")\n",
    "plt.title(\"Vjs Movies\",fontdict={'fontweight':'black'})\n",
    "plt.xticks(rotation = 90)\n",
    "plt.xlabel = \"top_5restro\"\n",
    "plt.ylabel = \"Count\"\n",
    "for i,v in enumerate(Vjs.values):\n",
    "    plt.text(i,v,str(v),ha='center')\n",
    "plt.show()\n",
    "\n",
    "print(\"\\nVjs Movies:  \",Vjs)"
   ]
  },
  {
   "cell_type": "code",
   "execution_count": null,
   "id": "3c18be65",
   "metadata": {},
   "outputs": [],
   "source": []
  }
 ],
 "metadata": {
  "kernelspec": {
   "display_name": "Python 3 (ipykernel)",
   "language": "python",
   "name": "python3"
  },
  "language_info": {
   "codemirror_mode": {
    "name": "ipython",
    "version": 3
   },
   "file_extension": ".py",
   "mimetype": "text/x-python",
   "name": "python",
   "nbconvert_exporter": "python",
   "pygments_lexer": "ipython3",
   "version": "3.11.4"
  }
 },
 "nbformat": 4,
 "nbformat_minor": 5
}
